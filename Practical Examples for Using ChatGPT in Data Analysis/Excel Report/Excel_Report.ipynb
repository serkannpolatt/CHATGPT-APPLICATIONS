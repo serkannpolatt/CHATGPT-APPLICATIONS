{
 "cells": [
  {
   "attachments": {},
   "cell_type": "markdown",
   "id": "01c4299a-b366-40b8-9d95-17f0779737cf",
   "metadata": {},
   "source": [
    "# Python and Excel: Generating Excel Reports \n",
    "# Python ve Excel: Excel Raporları Oluşturma\n"
   ]
  },
  {
   "attachments": {},
   "cell_type": "markdown",
   "id": "3cc2294c-05d1-4310-9d57-8130a869a3b1",
   "metadata": {},
   "source": [
    "## Here is the game plan:\n",
    "## İşte oyun planı:"
   ]
  },
  {
   "attachments": {},
   "cell_type": "markdown",
   "id": "fb83547a-6da2-484d-b8d6-bcf4d61a8510",
   "metadata": {
    "heading_collapsed": true
   },
   "source": [
    "### Before we start: Provide context\n",
    "### Başlamadan önce: Bağlam sağlayın"
   ]
  },
  {
   "attachments": {},
   "cell_type": "markdown",
   "id": "707ef806-d8b7-49d0-9de0-61988da72ba7",
   "metadata": {
    "hidden": true
   },
   "source": [
    "> As a data analyst, I need your help with Python. \n",
    "  Please provide efficient, readable, and pythonic code that follows best practices.\n",
    "  Here is your first task in angled brackets:\n",
    "\n",
    "> Bir veri analisti olarak Python konusunda yardımınıza ihtiyacım var.\n",
    "  Lütfen en iyi uygulamaları takip eden verimli, okunabilir ve Pythonic kodu sağlayın.\n",
    "  İşte açılı parantez içindeki ilk göreviniz:"
   ]
  },
  {
   "attachments": {},
   "cell_type": "markdown",
   "id": "3b5b3c9e-3989-4581-8aed-f7b9516b9ab1",
   "metadata": {
    "heading_collapsed": true
   },
   "source": [
    "### Step 1: Data Collection and Consolidation\n",
    "### 1. Adım: Veri Toplama ve Birleştirme"
   ]
  },
  {
   "attachments": {},
   "cell_type": "markdown",
   "id": "54090a17-5733-4e68-804e-23aa73160009",
   "metadata": {
    "hidden": true
   },
   "source": [
    "> Write a Python script using pandas to combine data from multiple Excel spreadsheets located in the \"data\" folder. The spreadsheets have columns for \"Date\", \"Category\", \"Revenue\", and \"Expenses\".\n",
    "\n",
    "> \"data\" klasöründe bulunan birden çok Excel elektronik tablosundaki verileri birleştirmek için pandaları kullanarak bir Python betiği yazın. Elektronik tablolarda \"Tarih\", \"Kategori\", \"Gelir\" ve \"Giderler\" için sütunlar bulunur."
   ]
  },
  {
   "attachments": {},
   "cell_type": "markdown",
   "id": "1146c3a7-f847-4e9c-8c8b-93d39d12e24a",
   "metadata": {
    "heading_collapsed": true
   },
   "source": [
    "### Step 2: Data Cleaning and Preparation\n",
    "### 2. Adım: Veri Temizleme ve Hazırlama"
   ]
  },
  {
   "attachments": {},
   "cell_type": "markdown",
   "id": "60b5abc4-e406-4aff-84d5-974f1e8704eb",
   "metadata": {
    "hidden": true
   },
   "source": [
    "> Clean the consolidated data by removing duplicates and handling missing values\n",
    "\n",
    "> Yinelenenleri kaldırarak ve eksik değerleri işleyerek birleştirilmiş verileri temizleyin"
   ]
  },
  {
   "attachments": {},
   "cell_type": "markdown",
   "id": "8bf9b3b0-f780-4287-bc02-b8fb68a794f4",
   "metadata": {
    "heading_collapsed": true
   },
   "source": [
    "### Step 3: Data Analysis and Calculations\n",
    "\n",
    "### 3. Adım: Veri Analizi ve Hesaplamalar"
   ]
  },
  {
   "attachments": {},
   "cell_type": "markdown",
   "id": "c63f9acb-d0c1-4d29-b15c-82e1c1284c7a",
   "metadata": {
    "hidden": true
   },
   "source": [
    "> Using the cleaned data, calculate the total revenue, expenses, and profit for each category\n",
    "\n",
    "> Temizlenmiş verileri kullanarak her kategori için toplam geliri, giderleri ve karı hesaplayın"
   ]
  },
  {
   "attachments": {},
   "cell_type": "markdown",
   "id": "08b449c8-69f2-46e3-80b7-8cb6f3179ef0",
   "metadata": {
    "heading_collapsed": true
   },
   "source": [
    "### Step 4: Generating Excel Report\n",
    "\n",
    "### 4. Adım: Excel Raporu Oluşturma"
   ]
  },
  {
   "attachments": {},
   "cell_type": "markdown",
   "id": "563fe8a6-60be-4d5e-bdd4-dc3fa9ba6f6a",
   "metadata": {
    "hidden": true
   },
   "source": [
    "> Create an Excel report with a chart representing the total revenue, expenses, and profit by category using xlsxwriter\n",
    "\n",
    "> xlsxwriter kullanarak kategoriye göre toplam geliri, giderleri ve kârı temsil eden bir grafik içeren bir Excel raporu oluşturun"
   ]
  },
  {
   "attachments": {},
   "cell_type": "markdown",
   "id": "2953436c",
   "metadata": {
    "heading_collapsed": true
   },
   "source": [
    "## Let's Code:\n",
    "\n",
    "## Hadi Kodlayalım:"
   ]
  },
  {
   "cell_type": "code",
   "execution_count": 2,
   "id": "d59c261c",
   "metadata": {},
   "outputs": [
    {
     "name": "stdout",
     "output_type": "stream",
     "text": [
      "Requirement already satisfied: xlsxwriter in c:\\users\\serkan polat\\appdata\\local\\programs\\python\\python310\\lib\\site-packages (3.1.2)\n"
     ]
    }
   ],
   "source": [
    "!pip install xlsxwriter"
   ]
  },
  {
   "cell_type": "code",
   "execution_count": 3,
   "id": "641801e5",
   "metadata": {
    "hidden": true
   },
   "outputs": [],
   "source": [
    "import xlsxwriter"
   ]
  },
  {
   "cell_type": "code",
   "execution_count": 4,
   "id": "3543cc3b",
   "metadata": {
    "hidden": true
   },
   "outputs": [
    {
     "name": "stdout",
     "output_type": "stream",
     "text": [
      "         Date Category  Revenue  Expenses      Source\n",
      "0  2021-01-01        A     1000       500  data1.xlsx\n",
      "1  2021-01-02        B     1500       800  data1.xlsx\n",
      "2  2021-01-03        C     1200       600  data1.xlsx\n",
      "3  2021-01-04        A      900       450  data1.xlsx\n",
      "4  2021-01-05        B     1600       850  data1.xlsx\n",
      "5  2021-01-06        C     1100       550  data2.xlsx\n",
      "6  2021-01-07        A      950       475  data2.xlsx\n",
      "7  2021-01-08        B     1400       700  data2.xlsx\n",
      "8  2021-01-09        C     1300       650  data2.xlsx\n",
      "9  2021-01-10        A     1000       500  data2.xlsx\n",
      "10 2021-01-11        B     1550       775  data3.xlsx\n",
      "11 2021-01-12        C     1250       625  data3.xlsx\n",
      "12 2021-01-13        A     1100       550  data3.xlsx\n",
      "13 2021-01-14        B     1450       725  data3.xlsx\n",
      "14 2021-01-15        C     1350       675  data3.xlsx\n"
     ]
    },
    {
     "name": "stderr",
     "output_type": "stream",
     "text": [
      "C:\\Users\\Serkan POLAT\\AppData\\Local\\Temp\\ipykernel_14140\\2009620538.py:29: FutureWarning: The frame.append method is deprecated and will be removed from pandas in a future version. Use pandas.concat instead.\n",
      "  combined_data = combined_data.append(df, ignore_index=True)\n",
      "C:\\Users\\Serkan POLAT\\AppData\\Local\\Temp\\ipykernel_14140\\2009620538.py:29: FutureWarning: The frame.append method is deprecated and will be removed from pandas in a future version. Use pandas.concat instead.\n",
      "  combined_data = combined_data.append(df, ignore_index=True)\n",
      "C:\\Users\\Serkan POLAT\\AppData\\Local\\Temp\\ipykernel_14140\\2009620538.py:29: FutureWarning: The frame.append method is deprecated and will be removed from pandas in a future version. Use pandas.concat instead.\n",
      "  combined_data = combined_data.append(df, ignore_index=True)\n"
     ]
    }
   ],
   "source": [
    "import pandas as pd\n",
    "import os\n",
    "\n",
    "# Define the path to the data folder\n",
    "# Veri klasörüne giden yolu tanımlayın\n",
    "data_folder = 'data'\n",
    "\n",
    "# Get a list of all the Excel files in the data folder\n",
    "# Veri klasöründeki tüm Excel dosyalarının bir listesini alın\n",
    "excel_files = [f for f in os.listdir(data_folder) if f.endswith('.xlsx')]\n",
    "\n",
    "# Create an empty dataframe to hold the combined data\n",
    "# Birleştirilmiş verileri tutmak için boş bir veri çerçevesi oluşturun\n",
    "combined_data = pd.DataFrame()\n",
    "\n",
    "# Loop through each Excel file and append its data to the combined_data dataframe\n",
    "# Her bir Excel dosyasında dolaşın ve verilerini birleştirilmiş_data veri çerçevesine ekleyin\n",
    "for file in excel_files:\n",
    "    # Load the Excel file into a dataframe\n",
    "    # Excel dosyasını bir veri çerçevesine yükleyin\n",
    "    df = pd.read_excel(os.path.join(data_folder, file))\n",
    "    \n",
    "    # Add a column to the dataframe to indicate the source file\n",
    "    # Kaynak dosyayı belirtmek için veri çerçevesine bir sütun ekleyin\n",
    "    df['Source'] = file\n",
    "    \n",
    "    # Append the data to the combined_data dataframe\n",
    "    # Verileri birleştirilmiş_data veri çerçevesine ekleyin\n",
    "    combined_data = combined_data.append(df, ignore_index=True)\n",
    "\n",
    "# Print the combined data\n",
    "# Birleşik verileri yazdır\n",
    "print(combined_data)\n"
   ]
  },
  {
   "cell_type": "code",
   "execution_count": 5,
   "id": "df0e02f1",
   "metadata": {
    "hidden": true
   },
   "outputs": [
    {
     "name": "stdout",
     "output_type": "stream",
     "text": [
      "         Date Category  Revenue  Expenses      Source\n",
      "0  2021-01-01        A     1000       500  data1.xlsx\n",
      "1  2021-01-02        B     1500       800  data1.xlsx\n",
      "2  2021-01-03        C     1200       600  data1.xlsx\n",
      "3  2021-01-04        A      900       450  data1.xlsx\n",
      "4  2021-01-05        B     1600       850  data1.xlsx\n",
      "5  2021-01-06        C     1100       550  data2.xlsx\n",
      "6  2021-01-07        A      950       475  data2.xlsx\n",
      "7  2021-01-08        B     1400       700  data2.xlsx\n",
      "8  2021-01-09        C     1300       650  data2.xlsx\n",
      "9  2021-01-10        A     1000       500  data2.xlsx\n",
      "10 2021-01-11        B     1550       775  data3.xlsx\n",
      "11 2021-01-12        C     1250       625  data3.xlsx\n",
      "12 2021-01-13        A     1100       550  data3.xlsx\n",
      "13 2021-01-14        B     1450       725  data3.xlsx\n",
      "14 2021-01-15        C     1350       675  data3.xlsx\n"
     ]
    }
   ],
   "source": [
    "# Drop duplicate rows\n",
    "# Yinelenen satırları bırakın\n",
    "combined_data.drop_duplicates(inplace=True)\n",
    "\n",
    "# Handle missing values\n",
    "# Eksik değerleri işle\n",
    "combined_data.dropna(inplace=True)\n",
    "\n",
    "# Print the cleaned data\n",
    "# Temizlenmiş verileri yazdır\n",
    "print(combined_data)"
   ]
  },
  {
   "cell_type": "code",
   "execution_count": 6,
   "id": "e264e541",
   "metadata": {
    "hidden": true
   },
   "outputs": [
    {
     "name": "stdout",
     "output_type": "stream",
     "text": [
      "          Revenue  Expenses  Profit\n",
      "Category                           \n",
      "A            4950      2475    2475\n",
      "B            7500      3850    3650\n",
      "C            6200      3100    3100\n"
     ]
    }
   ],
   "source": [
    "# Calculate total revenue, expenses, and profit for each category\n",
    "# Her kategori için toplam geliri, giderleri ve karı hesaplayın\n",
    "category_data = combined_data.groupby('Category').agg({'Revenue': 'sum', 'Expenses': 'sum'})\n",
    "category_data['Profit'] = category_data['Revenue'] - category_data['Expenses']\n",
    "\n",
    "# Print the category data\n",
    "# Kategori verilerini yazdır\n",
    "print(category_data)"
   ]
  },
  {
   "cell_type": "code",
   "execution_count": 7,
   "id": "f5ea603f",
   "metadata": {
    "hidden": true
   },
   "outputs": [
    {
     "name": "stdout",
     "output_type": "stream",
     "text": [
      "Report saved to/Report saved to category_report.xlsx.\n"
     ]
    }
   ],
   "source": [
    "# Create an Excel report\n",
    "# Bir Excel raporu oluşturun\n",
    "report_name = 'category_report.xlsx'\n",
    "workbook = xlsxwriter.Workbook(report_name)\n",
    "worksheet = workbook.add_worksheet()\n",
    "\n",
    "# Write the category data to the report\n",
    "# Kategori verilerini rapora yazın\n",
    "worksheet.write(0, 0, 'Category-Kategori')\n",
    "worksheet.write(0, 1, 'Revenue-Hasılat')\n",
    "worksheet.write(0, 2, 'Expenses-Masraflar')\n",
    "worksheet.write(0, 3, 'Profit-Kâr')\n",
    "\n",
    "row = 1\n",
    "for index, row_data in category_data.iterrows():\n",
    "    worksheet.write(row, 0, index)\n",
    "    worksheet.write(row, 1, row_data['Revenue'])\n",
    "    worksheet.write(row, 2, row_data['Expenses'])\n",
    "    worksheet.write(row, 3, row_data['Profit'])\n",
    "    row += 1\n",
    "\n",
    "# Create a chart representing the data\n",
    "# Verileri temsil eden bir grafik oluşturun\n",
    "chart = workbook.add_chart({'type': 'column'})\n",
    "\n",
    "chart.add_series({\n",
    "    'name': 'Revenue-Hasılat',\n",
    "    'categories': ['Sheet1', 1, 0, row - 1, 0],\n",
    "    'values': ['Sheet1', 1, 1, row - 1, 1],\n",
    "})\n",
    "\n",
    "chart.add_series({\n",
    "    'name': 'Expenses-Masraflar',\n",
    "    'categories': ['Sheet1', 1, 0, row - 1, 0],\n",
    "    'values': ['Sheet1', 1, 2, row - 1, 2],\n",
    "})\n",
    "\n",
    "chart.add_series({\n",
    "    'name': 'Profit-Kâr',\n",
    "    'categories': ['Sheet1', 1, 0, row - 1, 0],\n",
    "    'values': ['Sheet1', 1, 3, row - 1, 3],\n",
    "})\n",
    "\n",
    "chart.set_title({'name': 'Total Revenue, Expenses, and Profit by Category-Kategoriye Göre Toplam Gelir, Gider ve Kâr'})\n",
    "chart.set_x_axis({'name': 'Category-Kategori'})\n",
    "chart.set_y_axis({'name': 'Amount-Miktar'})\n",
    "chart.set_legend({'position': 'bottom'})\n",
    "\n",
    "worksheet.insert_chart('E1', chart)\n",
    "\n",
    "# Close the workbook\n",
    "# Çalışma kitabını kapat\n",
    "workbook.close()\n",
    "\n",
    "print(f'Report saved to/Rapor şuraya kaydedildi: {report_name}.')"
   ]
  },
  {
   "cell_type": "code",
   "execution_count": 8,
   "id": "84c02b13",
   "metadata": {
    "hidden": true
   },
   "outputs": [
    {
     "name": "stderr",
     "output_type": "stream",
     "text": [
      "C:\\Users\\Serkan POLAT\\AppData\\Local\\Temp\\ipykernel_14140\\3970409052.py:30: FutureWarning: The frame.append method is deprecated and will be removed from pandas in a future version. Use pandas.concat instead.\n",
      "  combined_data = combined_data.append(df, ignore_index=True)\n",
      "C:\\Users\\Serkan POLAT\\AppData\\Local\\Temp\\ipykernel_14140\\3970409052.py:30: FutureWarning: The frame.append method is deprecated and will be removed from pandas in a future version. Use pandas.concat instead.\n",
      "  combined_data = combined_data.append(df, ignore_index=True)\n",
      "C:\\Users\\Serkan POLAT\\AppData\\Local\\Temp\\ipykernel_14140\\3970409052.py:30: FutureWarning: The frame.append method is deprecated and will be removed from pandas in a future version. Use pandas.concat instead.\n",
      "  combined_data = combined_data.append(df, ignore_index=True)\n"
     ]
    },
    {
     "name": "stdout",
     "output_type": "stream",
     "text": [
      "Chart saved to category_chart.html.\n"
     ]
    }
   ],
   "source": [
    "import pandas as pd\n",
    "import os\n",
    "import plotly.express as px\n",
    "\n",
    "# Define the path to the data folder\n",
    "# Veri klasörüne giden yolu tanımlayın\n",
    "data_folder = 'data'\n",
    "\n",
    "# Get a list of all the Excel files in the data folder\n",
    "# Veri klasöründeki tüm Excel dosyalarının bir listesini alın\n",
    "excel_files = [f for f in os.listdir(data_folder) if f.endswith('.xlsx')]\n",
    "\n",
    "# Create an empty dataframe to hold the combined data\n",
    "# Birleştirilmiş verileri tutmak için boş bir veri çerçevesi oluşturun\n",
    "combined_data = pd.DataFrame()\n",
    "\n",
    "    # Loop through each Excel file and append its data to the combined_data dataframe\n",
    "    # Her bir Excel dosyasında dolaşın ve verilerini birleştirilmiş_data veri çerçevesine ekleyin\n",
    "for file in excel_files:\n",
    "    # Load the Excel file into a dataframe\n",
    "    # Excel dosyasını bir veri çerçevesine yükleyin\n",
    "    df = pd.read_excel(os.path.join(data_folder, file))\n",
    "    \n",
    "    # Add a column to the dataframe to indicate the source file\n",
    "    # Kaynak dosyayı belirtmek için veri çerçevesine bir sütun ekleyin\n",
    "    df['Source'] = file\n",
    "    \n",
    "    # Append the data to the combined_data dataframe\n",
    "    # Verileri birleştirilmiş_data veri çerçevesine ekleyin\n",
    "    combined_data = combined_data.append(df, ignore_index=True)\n",
    "\n",
    "# Drop duplicate rows\n",
    "# Yinelenen satırları bırakın\n",
    "combined_data.drop_duplicates(inplace=True)\n",
    "\n",
    "# Handle missing values\n",
    "# Eksik değerleri işle\n",
    "combined_data.dropna(inplace=True)\n",
    "\n",
    "# Calculate total revenue, expenses, and profit for each category\n",
    "# Her kategori için toplam geliri, giderleri ve karı hesaplayın\n",
    "category_data = combined_data.groupby('Category').agg({'Revenue': 'sum', 'Expenses': 'sum'})\n",
    "category_data['Profit'] = category_data['Revenue'] - category_data['Expenses']\n",
    "\n",
    "# Create an interactive chart using Plotly\n",
    "# Plotly kullanarak etkileşimli bir grafik oluşturun\n",
    "fig = px.bar(category_data, x=category_data.index, y=['Revenue', 'Expenses', 'Profit'], barmode='group', title='Total Revenue, Expenses, and Profit by Category')\n",
    "\n",
    "# Save the chart as an HTML file\n",
    "# Grafiği bir HTML dosyası olarak kaydedin\n",
    "chart_name = 'category_chart.html'\n",
    "fig.write_html(chart_name)\n",
    "\n",
    "print(f'Chart saved to {chart_name}.')\n"
   ]
  }
 ],
 "metadata": {
  "kernelspec": {
   "display_name": "Python 3 (ipykernel)",
   "language": "python",
   "name": "python3"
  },
  "language_info": {
   "codemirror_mode": {
    "name": "ipython",
    "version": 3
   },
   "file_extension": ".py",
   "mimetype": "text/x-python",
   "name": "python",
   "nbconvert_exporter": "python",
   "pygments_lexer": "ipython3",
   "version": "3.10.9"
  }
 },
 "nbformat": 4,
 "nbformat_minor": 5
}

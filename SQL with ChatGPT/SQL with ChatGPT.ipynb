{
 "cells": [
  {
   "cell_type": "markdown",
   "id": "44418bb5",
   "metadata": {},
   "source": [
    "# SQL with ChatGPT in Python"
   ]
  },
  {
   "attachments": {},
   "cell_type": "markdown",
   "id": "015b587a",
   "metadata": {},
   "source": [
    "#### `Veritabanı oluşturmak için Python'da bir SQLite sorgusu yazın. Bir veritabanı oluşturmak için Python'da bir SQLite sorgusu yazın.`\n",
    "#### `Write an SQLite query in Python to create the database. Write an SQLite query in Python to create a database.`"
   ]
  },
  {
   "cell_type": "code",
   "execution_count": 1,
   "id": "f63cb0f8",
   "metadata": {},
   "outputs": [],
   "source": [
    "import sqlite3\n",
    "\n",
    "# Connect to the database\n",
    "conn = sqlite3.connect(\"mydatabase.db\")\n",
    "\n",
    "# Create a cursor\n",
    "cursor = conn.cursor()\n",
    "\n",
    "# Create the table\n",
    "cursor.execute(\"CREATE TABLE demo (id INTEGER PRIMARY KEY, name TEXT, age INTEGER, job TEXT)\")\n",
    "\n",
    "# Commit the transaction\n",
    "conn.commit()\n",
    "\n",
    "# Close the connection\n",
    "conn.close()"
   ]
  },
  {
   "attachments": {},
   "cell_type": "markdown",
   "id": "9aeff76f",
   "metadata": {},
   "source": [
    "#### `Bu tablonun içine 100 rastgele değer ekleyin.`\n",
    "#### `Insert 100 random values ​​into this table.`"
   ]
  },
  {
   "cell_type": "code",
   "execution_count": 2,
   "id": "f19166e7",
   "metadata": {},
   "outputs": [],
   "source": [
    "import sqlite3\n",
    "import random\n",
    "\n",
    "# Connect to the database\n",
    "conn = sqlite3.connect(\"mydatabase.db\")\n",
    "\n",
    "# Create a cursor\n",
    "cursor = conn.cursor()\n",
    "\n",
    "# Generate 100 random values\n",
    "for i in range(100):\n",
    "    name = \"Name\" + str(i)\n",
    "    age = random.randint(18, 60)\n",
    "    job = \"Job\" + str(i)\n",
    "\n",
    "    # Insert the values into the table\n",
    "    cursor.execute(\"INSERT INTO demo (name, age, job) VALUES (?, ?, ?)\", (name, age, job))\n",
    "\n",
    "# Commit the transaction\n",
    "conn.commit()\n",
    "\n",
    "# Close the connection\n",
    "conn.close()"
   ]
  },
  {
   "attachments": {},
   "cell_type": "markdown",
   "id": "c19ca395",
   "metadata": {},
   "source": [
    "#### ` Bu tablodaki ilk 5 değeri göstermek için Python'da bir SQL sorgusu yazın.`\n",
    "#### ` Write a SQL query in Python to show the first 5 values ​​in this table.`"
   ]
  },
  {
   "cell_type": "code",
   "execution_count": 3,
   "id": "ac10f839",
   "metadata": {},
   "outputs": [
    {
     "name": "stdout",
     "output_type": "stream",
     "text": [
      "(1, 'Name0', 60, 'Job0')\n",
      "(2, 'Name1', 56, 'Job1')\n",
      "(3, 'Name2', 57, 'Job2')\n",
      "(4, 'Name3', 21, 'Job3')\n",
      "(5, 'Name4', 32, 'Job4')\n"
     ]
    }
   ],
   "source": [
    "import sqlite3\n",
    "\n",
    "# Connect to the database\n",
    "conn = sqlite3.connect(\"mydatabase.db\")\n",
    "\n",
    "# Create a cursor\n",
    "cursor = conn.cursor()\n",
    "\n",
    "# Execute the SELECT query\n",
    "cursor.execute(\"SELECT * FROM demo LIMIT 5\")\n",
    "\n",
    "# Fetch the results\n",
    "results = cursor.fetchall()\n",
    "\n",
    "# Print the results\n",
    "for row in results:\n",
    "    print(row)\n",
    "\n",
    "# Close the connection\n",
    "conn.close()"
   ]
  },
  {
   "attachments": {},
   "cell_type": "markdown",
   "id": "e0d51474",
   "metadata": {},
   "source": [
    "#### `Bu tablodaki yaş sütununun ortalamasını görmek için Python'da bir SQL sorgusu yazın.`\n",
    "#### `Write a SQL query in Python to see the average of the age column in this table.`"
   ]
  },
  {
   "cell_type": "code",
   "execution_count": 4,
   "id": "4ff4f033",
   "metadata": {},
   "outputs": [
    {
     "name": "stdout",
     "output_type": "stream",
     "text": [
      "37.65\n"
     ]
    }
   ],
   "source": [
    "import sqlite3\n",
    "\n",
    "# Connect to the database\n",
    "conn = sqlite3.connect(\"mydatabase.db\")\n",
    "\n",
    "# Create a cursor\n",
    "cursor = conn.cursor()\n",
    "\n",
    "# Execute the SELECT query\n",
    "cursor.execute(\"SELECT AVG(age) FROM demo\")\n",
    "\n",
    "# Fetch the result\n",
    "result = cursor.fetchone()\n",
    "\n",
    "# Print the result\n",
    "print(result[0])\n",
    "\n",
    "# Close the connection\n",
    "conn.close()"
   ]
  },
  {
   "attachments": {},
   "cell_type": "markdown",
   "id": "fdb86146",
   "metadata": {},
   "source": [
    "## Chat GPT kullanarak Python'da bir veritabanıyla çalışma\n",
    "## Working with a database in Python using Chat GPT"
   ]
  },
  {
   "attachments": {},
   "cell_type": "markdown",
   "id": "694d51be",
   "metadata": {},
   "source": [
    "#### `My_demo.db adlı veritabanındaki tabloların isimlerini görmek için Python'da bir SQL sorgusu yazın.`\n",
    "#### `Write a SQL query in Python to see the names of the tables in the database named my_demo.db.`"
   ]
  },
  {
   "cell_type": "code",
   "execution_count": 5,
   "id": "86ea228c",
   "metadata": {},
   "outputs": [
    {
     "name": "stdout",
     "output_type": "stream",
     "text": [
      "emp\n",
      "dept\n"
     ]
    }
   ],
   "source": [
    "import sqlite3\n",
    "\n",
    "# Connect to the database\n",
    "conn = sqlite3.connect(\"my_demo.db\")\n",
    "\n",
    "# Create a cursor\n",
    "cursor = conn.cursor()\n",
    "\n",
    "# Execute the SELECT query\n",
    "cursor.execute(\"SELECT name FROM sqlite_master WHERE type='table'\")\n",
    "\n",
    "# Fetch the results\n",
    "results = cursor.fetchall()\n",
    "\n",
    "# Print the results\n",
    "for row in results:\n",
    "    print(row[0])\n",
    "\n",
    "# Close the connection\n",
    "conn.close()"
   ]
  },
  {
   "attachments": {},
   "cell_type": "markdown",
   "id": "617a8c5c",
   "metadata": {},
   "source": [
    "#### `my_demo.db adlı veritabanındaki emp tablosunun değerlerini görmek için Python'da bir SQL sorgusu yazın.`\n",
    "#### `Write a SQL query in Python to examine the values ​​of the emp table in the documentation named my_demo.db.`"
   ]
  },
  {
   "cell_type": "code",
   "execution_count": 6,
   "id": "cf587c05",
   "metadata": {},
   "outputs": [
    {
     "name": "stdout",
     "output_type": "stream",
     "text": [
      "(7369, 'SMITH', 'CLERK', 7902, '1980-12-17', 800, None, 20)\n",
      "(7499, 'ALLEN', 'SALESMAN', 7698, '1981-02-20', 1600, 300, 30)\n",
      "(7521, 'WARD', 'SALESMAN', 7698, '1981-02-22', 1250, 500, 30)\n",
      "(7566, 'JONES', 'MANAGER', 7839, '1981-04-02', 2975, None, 20)\n",
      "(7654, 'MARTIN', 'SALESMAN', 7698, '1981-09-28', 1250, 1400, 30)\n",
      "(7698, 'BLAKE', 'MANAGER', 7839, '1981-05-01', 2850, None, 30)\n",
      "(7782, 'CLARK', 'MANAGER', 7839, '1981-06-09', 2450, None, 10)\n",
      "(7788, 'SCOTT', 'ANALYST', 7566, '1982-12-09', 3000, None, 20)\n",
      "(7839, 'KING', 'PRESIDENT', None, '1981-11-17', 5000, None, 10)\n",
      "(7844, 'TURNER', 'SALESMAN', 7698, '1981-09-08', 1500, 0, 30)\n",
      "(7876, 'ADAMS', 'CLERK', 7788, '1983-01-12', 1100, None, 20)\n",
      "(7900, 'JAMES', 'CLERK', 7698, '1981-12-03', 950, None, 30)\n",
      "(7902, 'FORD', 'ANALYST', 7566, '1981-12-03', 3000, None, 20)\n",
      "(7934, 'MILLER', 'CLERK', 7782, '1982-01-23', 1300, None, 10)\n"
     ]
    }
   ],
   "source": [
    "import sqlite3\n",
    "\n",
    "# Connect to the database\n",
    "conn = sqlite3.connect(\"my_demo.db\")\n",
    "\n",
    "# Create a cursor\n",
    "cursor = conn.cursor()\n",
    "\n",
    "# Execute the SELECT query\n",
    "cursor.execute(\"SELECT * FROM emp\")\n",
    "\n",
    "# Fetch the results\n",
    "results = cursor.fetchall()\n",
    "\n",
    "# Print the results\n",
    "for row in results:\n",
    "    print(row)\n",
    "\n",
    "# Close the connection\n",
    "conn.close()"
   ]
  },
  {
   "attachments": {},
   "cell_type": "markdown",
   "id": "fdf56350",
   "metadata": {},
   "source": [
    "#### `Write a SQL query in Python to see the values less than 5000 in the sal column in the emp table.`\n",
    "#### `Emp tablosundaki sal sütununda 5000'den küçük değerleri görmek için Python'da bir SQL sorgusu yazın.`"
   ]
  },
  {
   "cell_type": "code",
   "execution_count": 7,
   "id": "a309e857",
   "metadata": {
    "scrolled": true
   },
   "outputs": [
    {
     "name": "stdout",
     "output_type": "stream",
     "text": [
      "(7369, 'SMITH', 'CLERK', 7902, '1980-12-17', 800, None, 20)\n",
      "(7499, 'ALLEN', 'SALESMAN', 7698, '1981-02-20', 1600, 300, 30)\n",
      "(7521, 'WARD', 'SALESMAN', 7698, '1981-02-22', 1250, 500, 30)\n",
      "(7566, 'JONES', 'MANAGER', 7839, '1981-04-02', 2975, None, 20)\n",
      "(7654, 'MARTIN', 'SALESMAN', 7698, '1981-09-28', 1250, 1400, 30)\n",
      "(7698, 'BLAKE', 'MANAGER', 7839, '1981-05-01', 2850, None, 30)\n",
      "(7782, 'CLARK', 'MANAGER', 7839, '1981-06-09', 2450, None, 10)\n",
      "(7788, 'SCOTT', 'ANALYST', 7566, '1982-12-09', 3000, None, 20)\n",
      "(7844, 'TURNER', 'SALESMAN', 7698, '1981-09-08', 1500, 0, 30)\n",
      "(7876, 'ADAMS', 'CLERK', 7788, '1983-01-12', 1100, None, 20)\n",
      "(7900, 'JAMES', 'CLERK', 7698, '1981-12-03', 950, None, 30)\n",
      "(7902, 'FORD', 'ANALYST', 7566, '1981-12-03', 3000, None, 20)\n",
      "(7934, 'MILLER', 'CLERK', 7782, '1982-01-23', 1300, None, 10)\n"
     ]
    }
   ],
   "source": [
    "import sqlite3\n",
    "\n",
    "# Connect to the database\n",
    "conn = sqlite3.connect(\"my_demo.db\")\n",
    "\n",
    "# Create a cursor\n",
    "cursor = conn.cursor()\n",
    "\n",
    "# Execute the SELECT query\n",
    "cursor.execute(\"SELECT * FROM emp WHERE sal < 5000\")\n",
    "\n",
    "# Fetch the results\n",
    "results = cursor.fetchall()\n",
    "\n",
    "# Print the results\n",
    "for row in results:\n",
    "    print(row)\n",
    "\n",
    "# Close the connection\n",
    "conn.close()"
   ]
  }
 ],
 "metadata": {
  "kernelspec": {
   "display_name": "Python 3",
   "language": "python",
   "name": "python3"
  },
  "language_info": {
   "codemirror_mode": {
    "name": "ipython",
    "version": 3
   },
   "file_extension": ".py",
   "mimetype": "text/x-python",
   "name": "python",
   "nbconvert_exporter": "python",
   "pygments_lexer": "ipython3",
   "version": "3.11.1"
  },
  "vscode": {
   "interpreter": {
    "hash": "d1fd88d08fb1b26cade20b9311ddd9f74a7d8e10b19d260eb2ff687130fb545a"
   }
  }
 },
 "nbformat": 4,
 "nbformat_minor": 5
}

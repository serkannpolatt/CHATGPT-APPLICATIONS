{
 "cells": [
  {
   "cell_type": "markdown",
   "id": "79094326",
   "metadata": {},
   "source": [
    "# ChatGPT-with-Examples"
   ]
  },
  {
   "cell_type": "markdown",
   "id": "927b8d4c",
   "metadata": {},
   "source": [
    "`Draw a box plot showing the distribution of species' flipper length by sex in the Penguin Dataset with Seaborn. Show only python codes and don't write any explanation.`"
   ]
  },
  {
   "cell_type": "code",
   "execution_count": 1,
   "id": "f837b854",
   "metadata": {},
   "outputs": [
    {
     "data": {
      "text/plain": [
       "<AxesSubplot:xlabel='sex', ylabel='flipper_length_mm'>"
      ]
     },
     "execution_count": 1,
     "metadata": {},
     "output_type": "execute_result"
    },
    {
     "data": {
      "image/png": "[encoded data removed]",
      "text/plain": [
       "<Figure size 640x480 with 1 Axes>"
      ]
     },
     "metadata": {},
     "output_type": "display_data"
    }
   ],
   "source": [
    "import seaborn as sns\n",
    "\n",
    "# Load the Penguin dataset from Seaborn\n",
    "penguins = sns.load_dataset(\"penguins\")\n",
    "\n",
    "# Draw the boxplot\n",
    "sns.boxplot(x=\"sex\", y=\"flipper_length_mm\", data=penguins)"
   ]
  },
  {
   "cell_type": "markdown",
   "id": "99e48a55",
   "metadata": {},
   "source": [
    "`Web scrape https://books.toscrape.com/ using Python and beautiful soup.`"
   ]
  },
  {
   "cell_type": "code",
   "execution_count": 2,
   "id": "e0170325",
   "metadata": {},
   "outputs": [
    {
     "name": "stdout",
     "output_type": "stream",
     "text": [
      "A Light in the ... £51.77\n",
      "Tipping the Velvet £53.74\n",
      "Soumission £50.10\n",
      "Sharp Objects £47.82\n",
      "Sapiens: A Brief History ... £54.23\n",
      "The Requiem Red £22.65\n",
      "The Dirty Little Secrets ... £33.34\n",
      "The Coming Woman: A ... £17.93\n",
      "The Boys in the ... £22.60\n",
      "The Black Maria £52.15\n",
      "Starving Hearts (Triangular Trade ... £13.99\n",
      "Shakespeare's Sonnets £20.66\n",
      "Set Me Free £17.46\n",
      "Scott Pilgrim's Precious Little ... £52.29\n",
      "Rip it Up and ... £35.02\n",
      "Our Band Could Be ... £57.25\n",
      "Olio £23.88\n",
      "Mesaerion: The Best Science ... £37.59\n",
      "Libertarianism for Beginners £51.33\n",
      "It's Only the Himalayas £45.17\n"
     ]
    }
   ],
   "source": [
    "import requests\n",
    "from bs4 import BeautifulSoup\n",
    "\n",
    "# Send a request to the website and retrieve the HTML\n",
    "url = 'https://books.toscrape.com/'\n",
    "html = requests.get(url).content\n",
    "\n",
    "# Parse the HTML using Beautiful Soup\n",
    "soup = BeautifulSoup(html, 'html.parser')\n",
    "\n",
    "# Find the elements on the page that you want to scrape\n",
    "book_containers = soup.find_all('article', class_='product_pod')\n",
    "\n",
    "# Extract the data from the elements\n",
    "for container in book_containers:\n",
    "    title = container.h3.a.text\n",
    "    price = container.find('p', class_='price_color').text\n",
    "    print(title, price)"
   ]
  },
  {
   "cell_type": "markdown",
   "id": "963550f4",
   "metadata": {},
   "source": [
    "`Load the iris dataset with scikit-learn and then build a logistic regression model to predict iris flower species with Python.`"
   ]
  },
  {
   "cell_type": "code",
   "execution_count": 4,
   "id": "ff50c3fb",
   "metadata": {
    "scrolled": true
   },
   "outputs": [
    {
     "name": "stdout",
     "output_type": "stream",
     "text": [
      "Test accuracy: 1.00\n"
     ]
    },
    {
     "name": "stderr",
     "output_type": "stream",
     "text": [
      "C:\\Users\\lenovo\\anaconda3\\lib\\site-packages\\sklearn\\linear_model\\_logistic.py:814: ConvergenceWarning: lbfgs failed to converge (status=1):\n",
      "STOP: TOTAL NO. of ITERATIONS REACHED LIMIT.\n",
      "\n",
      "Increase the number of iterations (max_iter) or scale the data as shown in:\n",
      "    https://scikit-learn.org/stable/modules/preprocessing.html\n",
      "Please also refer to the documentation for alternative solver options:\n",
      "    https://scikit-learn.org/stable/modules/linear_model.html#logistic-regression\n",
      "  n_iter_i = _check_optimize_result(\n"
     ]
    }
   ],
   "source": [
    "import pandas as pd\n",
    "from sklearn.datasets import load_iris\n",
    "from sklearn.linear_model import LogisticRegression\n",
    "from sklearn.model_selection import train_test_split\n",
    "\n",
    "# Load the iris dataset\n",
    "iris = load_iris()\n",
    "X = iris['data']\n",
    "y = iris['target']\n",
    "\n",
    "# Split the data into training and testing sets\n",
    "X_train, X_test, y_train, y_test = train_test_split(X, y, test_size=0.2, random_state=42)\n",
    "\n",
    "# Build the logistic regression model\n",
    "model = LogisticRegression()\n",
    "model.fit(X_train, y_train)\n",
    "\n",
    "# Evaluate the model on the test data\n",
    "accuracy = model.score(X_test, y_test)\n",
    "print(f'Test accuracy: {accuracy:.2f}')"
   ]
  }
 ],
 "metadata": {
  "kernelspec": {
   "display_name": "Python 3",
   "language": "python",
   "name": "python3"
  },
  "language_info": {
   "codemirror_mode": {
    "name": "ipython",
    "version": 3
   },
   "file_extension": ".py",
   "mimetype": "text/x-python",
   "name": "python",
   "nbconvert_exporter": "python",
   "pygments_lexer": "ipython3",
   "version": "3.11.1"
  },
  "vscode": {
   "interpreter": {
    "hash": "d1fd88d08fb1b26cade20b9311ddd9f74a7d8e10b19d260eb2ff687130fb545a"
   }
  }
 },
 "nbformat": 4,
 "nbformat_minor": 5
}
